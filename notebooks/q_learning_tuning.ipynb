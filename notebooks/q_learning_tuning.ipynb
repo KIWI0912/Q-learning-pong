import matplotlib.pyplot as plt
from src.agents.q_learner import QLearning
from src.game.core import Game

def train():
    agent = QLearning()
    game = Game()
    scores = []
    
    for episode in range(1000):
        game.reset()
        state = agent.get_state(game.balls, game.paddle)
        total_reward = 0
        
        while True:
            action = agent.choose_action(state)
            game.update(action)
            next_state = agent.get_state(game.balls, game.paddle)
            reward = calculate_reward(game.balls, game.paddle, action)
            agent.update(state, action, reward, next_state)
            
            total_reward += reward
            state = next_state
            
            if not game.balls:
                break
                
        scores.append(total_reward)
        
    plt.plot(scores)
    plt.xlabel("Episode")
    plt.ylabel("Score")
    plt.title("Q-Learning Training Progress")
    plt.show()
