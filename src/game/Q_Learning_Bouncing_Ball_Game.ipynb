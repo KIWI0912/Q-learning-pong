{
  "nbformat": 4,
  "nbformat_minor": 0,
  "metadata": {
    "colab": {
      "provenance": []
    },
    "kernelspec": {
      "name": "python3",
      "display_name": "Python 3"
    },
    "language_info": {
      "name": "python"
    }
  },
  "cells": [
    {
      "cell_type": "code",
      "source": [
        "!pip install pygame"
      ],
      "metadata": {
        "id": "iGCpfm4-NHMG",
        "colab": {
          "base_uri": "https://localhost:8080/"
        },
        "outputId": "8291579d-2411-411f-f094-09fa6bbcad2d"
      },
      "execution_count": null,
      "outputs": [
        {
          "output_type": "stream",
          "name": "stdout",
          "text": [
            "Requirement already satisfied: pygame in /usr/local/lib/python3.11/dist-packages (2.6.1)\n"
          ]
        }
      ]
    },
    {
      "cell_type": "markdown",
      "source": [
        "# **Q-Learning Bouncing Ball Game**\n",
        "This game implements a Q-learning algorithm to control paddle movement\n",
        "and features multiple game mechanics including rewards and penalties.\n",
        "\n",
        "##1.   Initialization and configuration section\n",
        "##2.   Game variable initialization\n",
        "##3.   Q-learning parameter Settings\n",
        "##4.   Game object initialization function\n",
        "##5.   Q-learning related function\n",
        "##6.   Game drawing and mechanic functions\n",
        "##7.   Main game loop"
      ],
      "metadata": {
        "id": "QMhlkHuANh5o"
      }
    },
    {
      "cell_type": "code",
      "execution_count": null,
      "metadata": {
        "id": "5cs5gfbjMv2g",
        "colab": {
          "base_uri": "https://localhost:8080/"
        },
        "outputId": "e4443e89-b359-48a2-857a-06ad7e5634c4"
      },
      "outputs": [
        {
          "output_type": "stream",
          "name": "stdout",
          "text": [
            "pygame 2.6.1 (SDL 2.28.4, Python 3.11.11)\n",
            "Hello from the pygame community. https://www.pygame.org/contribute.html\n"
          ]
        }
      ],
      "source": [
        "import pygame\n",
        "import random\n",
        "import numpy as np"
      ]
    },
    {
      "cell_type": "markdown",
      "source": [
        "##Initialization and configuration section\n",
        "\n"
      ],
      "metadata": {
        "id": "W16aazhuQWav"
      }
    },
    {
      "cell_type": "code",
      "source": [
        "# Initialize Pygame\n",
        "pygame.init()\n",
        "\n",
        "# Screen dimensions\n",
        "SCREEN_WIDTH, SCREEN_HEIGHT = 800, 600\n",
        "screen = pygame.display.set_mode((SCREEN_WIDTH, SCREEN_HEIGHT))\n",
        "pygame.display.set_caption(\"Q-Learning Bouncing Ball Game\")\n",
        "\n",
        "# Colors\n",
        "BACKGROUND_COLOR = (255, 209, 220)  # Light pink\n",
        "BALL_COLOR = (255, 105, 180)        # Hot pink\n",
        "PADDLE_COLOR = (255, 182, 193)      # Light pink\n",
        "TEXT_COLOR = (255, 20, 147)         # Deep pink\n",
        "REWARD_COLOR = (255, 255, 0)        # Yellow for rewards\n",
        "\n",
        "# Fonts\n",
        "font = pygame.font.SysFont(\"Arial\", 36)\n",
        "small_font = pygame.font.SysFont(\"Arial\", 24)"
      ],
      "metadata": {
        "id": "KisecSh1MzI9"
      },
      "execution_count": null,
      "outputs": []
    },
    {
      "cell_type": "markdown",
      "source": [
        "##Game variable initialization"
      ],
      "metadata": {
        "id": "4RtLnKdQPRwk"
      }
    },
    {
      "cell_type": "code",
      "source": [
        "# Base game variable\n",
        "clock = pygame.time.Clock()\n",
        "running = True\n",
        "current_screen = \"menu\"\n",
        "score = 0\n",
        "balls = []\n",
        "paddle = {}\n",
        "rewards = []\n",
        "\n",
        "# Time-dependent variable\n",
        "reward_timer = 0\n",
        "reward_move_interval = 10000  # Rewards change every 10 seconds (in milliseconds)\n",
        "time_elapsed = 0\n",
        "game_timer = 60  # Countdown timer in seconds\n",
        "\n",
        "# Game parameters\n",
        "INITIAL_PADDLE_WIDTH = 100"
      ],
      "metadata": {
        "id": "OGb8av9XN9Up"
      },
      "execution_count": null,
      "outputs": []
    },
    {
      "cell_type": "markdown",
      "source": [
        "##Q-learning parameter Settings"
      ],
      "metadata": {
        "id": "syiExn5APwuk"
      }
    },
    {
      "cell_type": "code",
      "source": [
        "alpha = 0.1  # Learning rate\n",
        "gamma = 0.9  # Discount factor\n",
        "epsilon = 0.1  # Exploration rate\n",
        "Q = {}  # Q-table\n",
        "\n",
        "# New variables for reward collision penalty\n",
        "last_reward_collision_timer = 0\n",
        "missed_reward_penalty = 5000"
      ],
      "metadata": {
        "id": "evp6m6w7OIqB"
      },
      "execution_count": null,
      "outputs": []
    },
    {
      "cell_type": "markdown",
      "source": [
        "##Game object initialization function"
      ],
      "metadata": {
        "id": "WYlvOs6eRYFE"
      }
    },
    {
      "cell_type": "code",
      "source": [
        "def init_ball():\n",
        "    return {\n",
        "        \"x\": random.randint(100, SCREEN_WIDTH - 100),\n",
        "        \"y\": 50,                                        # Fixed initial height\n",
        "        \"vx\": random.choice([-4, -3, 3, 4]),            # Random horizontal speed\n",
        "        \"vy\": random.choice([3, 4, 5]),                 # Random vertical speed\n",
        "        \"radius\": 10                                    # Radius of the ball\n",
        "    }\n",
        "\n",
        "def init_paddle():\n",
        "    return {\"x\": SCREEN_WIDTH // 2 - 50,     # Center place\n",
        "            \"width\": INITIAL_PADDLE_WIDTH,   # Initial width\n",
        "            \"height\": 10,                    # Fixed height\n",
        "            \"speed\": 5}                      # Moving speed\n",
        "\n",
        "def init_reward():\n",
        "    return {\n",
        "        \"x\": random.randint(100, SCREEN_WIDTH - 130),\n",
        "        \"y\": random.randint(100, SCREEN_HEIGHT // 2),\n",
        "        \"size\": random.randint(20, 40),\n",
        "        \"active\": True,\n",
        "        \"type\": random.choice([\"score\", \"paddle_extend\", \"extra_ball\"])\n",
        "    }"
      ],
      "metadata": {
        "id": "ZS9SZI7BORkO"
      },
      "execution_count": null,
      "outputs": []
    },
    {
      "cell_type": "markdown",
      "source": [
        "##Q-learning related function"
      ],
      "metadata": {
        "id": "mje1AqE3SrB4"
      }
    },
    {
      "cell_type": "code",
      "source": [
        "def get_state(balls, paddle):\n",
        "    if not balls:\n",
        "        return None\n",
        "\n",
        "    # Find all balls that are moving down (a threat to the backstop)\n",
        "    dangerous_balls = [b for b in balls if b[\"vy\"] > 0]\n",
        "    if not dangerous_balls:\n",
        "        dangerous_balls = balls\n",
        "\n",
        "    # Select the most dangerous ball (the ball that reaches the barrier the fastest)\n",
        "    closest_ball = min(dangerous_balls,\n",
        "                      key=lambda b: (SCREEN_HEIGHT - b[\"y\"]) / abs(b[\"vy\"]) if b[\"vy\"] != 0 else float('inf'))\n",
        "\n",
        "    # Discretize continuous location information\n",
        "    ball_x = int(closest_ball[\"x\"] // 50)\n",
        "    ball_y = int(closest_ball[\"y\"] // 50)\n",
        "    ball_direction = 1 if closest_ball[\"vx\"] > 0 else -1\n",
        "    ball_vertical = 1 if closest_ball[\"vy\"] > 0 else -1\n",
        "    paddle_x = int(paddle[\"x\"] // 50)\n",
        "\n",
        "    # Consider the relative positions of the other balls\n",
        "    other_balls_info = 0\n",
        "    for ball in balls:\n",
        "        if ball != closest_ball:\n",
        "            rel_x = 1 if ball[\"x\"] > closest_ball[\"x\"] else -1\n",
        "            rel_y = 1 if ball[\"y\"] > closest_ball[\"y\"] else -1\n",
        "            other_balls_info += (rel_x + rel_y)\n",
        "\n",
        "    return (ball_x, ball_y, paddle_x, ball_direction, ball_vertical, other_balls_info)\n",
        "\n",
        "# Predict where all the balls will land\n",
        "def predict_all_balls_landing(balls):\n",
        "    predictions = []\n",
        "    for ball in balls:\n",
        "        if ball[\"vy\"] > 0:\n",
        "            time_to_paddle = (SCREEN_HEIGHT - ball[\"radius\"] - ball[\"y\"]) / ball[\"vy\"]\n",
        "            predicted_x = ball[\"x\"] + (ball[\"vx\"] * time_to_paddle)\n",
        "\n",
        "            # Handle situations where the ball hits a wall and bounces\n",
        "            while predicted_x < 0 or predicted_x > SCREEN_WIDTH:\n",
        "                if predicted_x < 0:\n",
        "                    predicted_x = -predicted_x\n",
        "                if predicted_x > SCREEN_WIDTH:\n",
        "                    predicted_x = 2 * SCREEN_WIDTH - predicted_x\n",
        "\n",
        "            predictions.append({\n",
        "                \"x\": predicted_x,\n",
        "                \"time\": time_to_paddle,\n",
        "                \"ball\": ball\n",
        "            })\n",
        "\n",
        "    # Sort by arrival time\n",
        "    predictions.sort(key=lambda p: p[\"time\"])\n",
        "    return predictions\n",
        "\n",
        "# Calculate the reward value of the current action\n",
        "def calculate_reward(balls, paddle, action):\n",
        "    reward = 0\n",
        "    predictions = predict_all_balls_landing(balls)\n",
        "\n",
        "    if not predictions:\n",
        "        return 0\n",
        "\n",
        "    paddle_center = paddle[\"x\"] + paddle[\"width\"] / 2\n",
        "    # Calculate the reward based on the predicted landing of each ball\n",
        "    for i, pred in enumerate(predictions):\n",
        "        weight = 1.0 / (i + 1)\n",
        "        distance_to_prediction = abs(pred[\"x\"] - paddle_center)\n",
        "        # Reward actions for correctness\n",
        "        if pred[\"x\"] > paddle_center and action == 1:\n",
        "            reward += 2 * weight\n",
        "        elif pred[\"x\"] < paddle_center and action == -1:\n",
        "            reward += 2 * weight\n",
        "        elif abs(pred[\"x\"] - paddle_center) < paddle[\"width\"]/2 and action == 0:\n",
        "            reward += 3 * weight\n",
        "        # Reward or punish based on distance from predicted landing point\n",
        "        if distance_to_prediction < paddle[\"width\"]:\n",
        "            reward += (paddle[\"width\"] - distance_to_prediction) / paddle[\"width\"] * 5 * weight\n",
        "        elif distance_to_prediction > paddle[\"width\"] * 1.5:\n",
        "            reward -= 3 * weight\n",
        "\n",
        "    return reward\n",
        "\n",
        "# Select next action\n",
        "def choose_action(state, balls, paddle):\n",
        "    # Initialize the Q value of the state\n",
        "    if state not in Q:\n",
        "        Q[state] = {action: 0 for action in [-1, 0, 1]}\n",
        "\n",
        "    predictions = predict_all_balls_landing(balls)\n",
        "    if not predictions:\n",
        "        return 0\n",
        "\n",
        "    paddle_center = paddle[\"x\"] + paddle[\"width\"] / 2\n",
        "\n",
        "    # Calculate the weighted average target position\n",
        "    target_x = 0\n",
        "    total_weight = 0\n",
        "    for i, pred in enumerate(predictions):\n",
        "        weight = 1.0 / (i + 1)\n",
        "        target_x += pred[\"x\"] * weight\n",
        "        total_weight += weight\n",
        "    target_x /= total_weight\n",
        "\n",
        "    # 80% probability using simple strategy\n",
        "    if random.uniform(0, 1) < 0.8:\n",
        "        if abs(target_x - paddle_center) < paddle[\"width\"]/4:\n",
        "            return 0\n",
        "        elif target_x < paddle_center:\n",
        "            return -1 if paddle[\"x\"] > 0 else 0\n",
        "        else:\n",
        "            return 1 if paddle[\"x\"] + paddle[\"width\"] < SCREEN_WIDTH else 0\n",
        "\n",
        "    # 20% probability of using Q-learning strategy\n",
        "    if random.uniform(0, 1) < epsilon:\n",
        "        valid_actions = [-1, 0, 1]\n",
        "        if paddle[\"x\"] <= 0:\n",
        "            valid_actions.remove(-1)\n",
        "        if paddle[\"x\"] + paddle[\"width\"] >= SCREEN_WIDTH:\n",
        "            valid_actions.remove(1)\n",
        "        return random.choice(valid_actions)\n",
        "    else:\n",
        "        valid_actions = {a: Q[state][a] for a in [-1, 0, 1] if\n",
        "                        (a != -1 or paddle[\"x\"] > 0) and\n",
        "                        (a != 1 or paddle[\"x\"] + paddle[\"width\"] < SCREEN_WIDTH)}\n",
        "        return max(valid_actions, key=valid_actions.get)\n",
        "\n",
        "# Update the Q value table\n",
        "def update_q_table(state, action, reward, next_state):\n",
        "    # Initialize the Q value of the state\n",
        "    if state not in Q:\n",
        "        Q[state] = {a: 0 for a in [-1, 0, 1]}\n",
        "    if next_state not in Q:\n",
        "        Q[next_state] = {a: 0 for a in [-1, 0, 1]}\n",
        "\n",
        "    # Q-learning Update formula\n",
        "    current_q = Q[state][action]\n",
        "    max_next_q = max(Q[next_state].values())\n",
        "    Q[state][action] = current_q + alpha * (reward + gamma * max_next_q - current_q)"
      ],
      "metadata": {
        "id": "OPyMdwD1SuDR"
      },
      "execution_count": null,
      "outputs": []
    },
    {
      "cell_type": "markdown",
      "source": [
        "##Game drawing and mechanic functions"
      ],
      "metadata": {
        "id": "mwUmLSz5S7Lq"
      }
    },
    {
      "cell_type": "code",
      "source": [
        "# Draw star rewards\n",
        "def draw_star(surface, x, y, size, color):\n",
        "    points = []\n",
        "    for i in range(10):\n",
        "        angle = i * (360 / 10) - 90\n",
        "        radius = size if i % 2 == 0 else size // 2\n",
        "        x_point = x + radius * np.cos(np.radians(angle))\n",
        "        y_point = y + radius * np.sin(np.radians(angle))\n",
        "        points.append((x_point, y_point))\n",
        "    pygame.draw.polygon(surface, color, points)\n",
        "\n",
        "# Update the location and status of all rewards\n",
        "def move_rewards():\n",
        "    for reward in rewards:\n",
        "        reward[\"x\"] = random.randint(100, SCREEN_WIDTH - 130)\n",
        "        reward[\"y\"] = random.randint(100, SCREEN_HEIGHT // 2)\n",
        "        reward[\"size\"] = random.randint(20, 40)\n",
        "        reward[\"type\"] = random.choice([\"score\", \"paddle_extend\", \"extra_ball\"])\n",
        "        reward[\"active\"] = True\n",
        "\n",
        "# Detect the collision of the ball with the reward\n",
        "def ball_reward_collision(ball, reward):\n",
        "    if reward[\"active\"] and reward[\"x\"] <= ball[\"x\"] <= reward[\"x\"] + reward[\"size\"] and \\\n",
        "       reward[\"y\"] <= ball[\"y\"] <= reward[\"y\"] + reward[\"size\"]:\n",
        "        reward[\"active\"] = False\n",
        "        return reward[\"type\"]\n",
        "    return None\n",
        "\n",
        "# Draw the game screen\n",
        "def draw_game():\n",
        "    screen.fill(BACKGROUND_COLOR)\n",
        "\n",
        "    # Draw all balls\n",
        "    for ball in balls:\n",
        "        pygame.draw.circle(screen, BALL_COLOR, (int(ball[\"x\"]), int(ball[\"y\"])), ball[\"radius\"])\n",
        "\n",
        "    # Draw baffles\n",
        "    pygame.draw.rect(screen, PADDLE_COLOR, (int(paddle[\"x\"]), SCREEN_HEIGHT - paddle[\"height\"],\n",
        "                                          paddle[\"width\"], paddle[\"height\"]))\n",
        "    # Draw rewards for activities\n",
        "    for reward in rewards:\n",
        "        if reward[\"active\"]:\n",
        "            draw_star(screen, reward[\"x\"] + reward[\"size\"] // 2,\n",
        "                     reward[\"y\"] + reward[\"size\"] // 2, reward[\"size\"] // 2, REWARD_COLOR)\n",
        "\n",
        "    # Plot the score and time\n",
        "    score_text = small_font.render(f\"Score: {score}\", True, TEXT_COLOR)\n",
        "    screen.blit(score_text, (10, 10))\n",
        "    timer_text = small_font.render(f\"Time: {int(game_timer - time_elapsed)}\", True, TEXT_COLOR)\n",
        "    screen.blit(timer_text, (SCREEN_WIDTH - 150, 10))"
      ],
      "metadata": {
        "id": "zX382XQ3S_X6"
      },
      "execution_count": null,
      "outputs": []
    },
    {
      "cell_type": "markdown",
      "source": [
        "##Main game loop"
      ],
      "metadata": {
        "id": "NmMPXVwoTGn6"
      }
    },
    {
      "cell_type": "code",
      "source": [
        "while running:\n",
        "    # Handle exit events\n",
        "    for event in pygame.event.get():\n",
        "        if event.type == pygame.QUIT:\n",
        "            running = False\n",
        "\n",
        "    # Menu interface\n",
        "    if current_screen == \"menu\":\n",
        "        screen.fill(BACKGROUND_COLOR)\n",
        "        title = font.render(\"Q-Learning Bouncing Ball Game\", True, TEXT_COLOR)\n",
        "        start_text = small_font.render(\"Press ENTER to Start\", True, TEXT_COLOR)\n",
        "        exit_text = small_font.render(\"Press ESC to Exit\", True, TEXT_COLOR)\n",
        "        screen.blit(title, (SCREEN_WIDTH // 2 - title.get_width() // 2, 200))\n",
        "        screen.blit(start_text, (SCREEN_WIDTH // 2 - start_text.get_width() // 2, 300))\n",
        "        screen.blit(exit_text, (SCREEN_WIDTH // 2 - exit_text.get_width() // 2, 350))\n",
        "\n",
        "        # Handle menu input\n",
        "        keys = pygame.key.get_pressed()\n",
        "        if keys[pygame.K_RETURN]:\n",
        "            current_screen = \"game\"\n",
        "            score = 0\n",
        "            balls = [init_ball()]\n",
        "            paddle = init_paddle()\n",
        "            rewards = [init_reward() for _ in range(10)]\n",
        "            time_elapsed = 0\n",
        "            reward_timer = pygame.time.get_ticks()\n",
        "            last_reward_collision_timer = pygame.time.get_ticks()\n",
        "        elif keys[pygame.K_ESCAPE]:\n",
        "            running = False\n",
        "\n",
        "    # Game interface\n",
        "    elif current_screen == \"game\":\n",
        "        # Make sure the ball is always on the court\n",
        "        if not balls:\n",
        "            balls = [init_ball()]\n",
        "\n",
        "        # Update all ball positions\n",
        "        for ball in balls[:]:\n",
        "            ball[\"x\"] += ball[\"vx\"]\n",
        "            ball[\"y\"] += ball[\"vy\"]\n",
        "\n",
        "            # Handle ball boundary collisions\n",
        "            if ball[\"x\"] <= 0 or ball[\"x\"] >= SCREEN_WIDTH:\n",
        "                ball[\"vx\"] = -ball[\"vx\"]\n",
        "            if ball[\"y\"] <= 0:\n",
        "                ball[\"vy\"] = -ball[\"vy\"]\n",
        "            if ball[\"y\"] >= SCREEN_HEIGHT:\n",
        "                balls.remove(ball)\n",
        "                if len(balls) == 0:\n",
        "                    score -= 10\n",
        "                    balls.append(init_ball())\n",
        "\n",
        "            # Handle the collision between the ball and the baffle\n",
        "            if paddle[\"x\"] <= ball[\"x\"] <= paddle[\"x\"] + paddle[\"width\"] and \\\n",
        "               ball[\"y\"] + ball[\"radius\"] >= SCREEN_HEIGHT - paddle[\"height\"]:\n",
        "                ball[\"vy\"] = -abs(ball[\"vy\"])\n",
        "                score += 5\n",
        "\n",
        "            # Handle collisions between balls and rewards\n",
        "            for reward in rewards:\n",
        "                reward_type = ball_reward_collision(ball, reward)\n",
        "                if reward_type:\n",
        "                    last_reward_collision_timer = pygame.time.get_ticks()\n",
        "                    if reward_type == \"score\":\n",
        "                        score += 25\n",
        "                    elif reward_type == \"paddle_extend\":\n",
        "                        paddle[\"width\"] += 30\n",
        "                    elif reward_type == \"extra_ball\":\n",
        "                        balls.append(init_ball())\n",
        "\n",
        "        # Deal with penalties for missing rewards\n",
        "        if pygame.time.get_ticks() - last_reward_collision_timer >= missed_reward_penalty:\n",
        "            score -= 10\n",
        "            last_reward_collision_timer = pygame.time.get_ticks()\n",
        "\n",
        "        # Update reward locations regularly\n",
        "        if pygame.time.get_ticks() - reward_timer >= reward_move_interval:\n",
        "            move_rewards()\n",
        "            reward_timer = pygame.time.get_ticks()\n",
        "\n",
        "        # Q-learning control baffle\n",
        "        if balls:\n",
        "            current_state = get_state(balls, paddle)\n",
        "            if current_state:\n",
        "                action = choose_action(current_state, balls, paddle)\n",
        "\n",
        "                # Update the baffle position\n",
        "                old_x = paddle[\"x\"]\n",
        "                paddle[\"x\"] += action * paddle[\"speed\"]\n",
        "                paddle[\"x\"] = max(0, min(SCREEN_WIDTH - paddle[\"width\"], paddle[\"x\"]))\n",
        "\n",
        "                # Update the Q table\n",
        "                reward = calculate_reward(balls, paddle, action)\n",
        "                next_state = get_state(balls, paddle)\n",
        "                if next_state:\n",
        "                    update_q_table(current_state, action, reward, next_state)\n",
        "\n",
        "        # Draw the game screen\n",
        "        draw_game()\n",
        "\n",
        "        # Update game time\n",
        "        time_elapsed += clock.get_time() / 1000\n",
        "        if time_elapsed >= game_timer:\n",
        "            current_screen = \"end_screen\"\n",
        "\n",
        "    # End interface\n",
        "    elif current_screen == \"end_screen\":\n",
        "        screen.fill(BACKGROUND_COLOR)\n",
        "        end_text = font.render(\"Time's Up!\", True, TEXT_COLOR)\n",
        "        score_text = small_font.render(f\"Your Score: {score}\", True, TEXT_COLOR)\n",
        "        menu_text = small_font.render(\"Press R to Return to Menu\", True, TEXT_COLOR)\n",
        "        exit_text = small_font.render(\"Press ESC to Exit\", True, TEXT_COLOR)\n",
        "\n",
        "        screen.blit(end_text, (SCREEN_WIDTH // 2 - end_text.get_width() // 2, 200))\n",
        "        screen.blit(score_text, (SCREEN_WIDTH // 2 - score_text.get_width() // 2, 300))\n",
        "        screen.blit(menu_text, (SCREEN_WIDTH // 2 - menu_text.get_width() // 2, 400))\n",
        "        screen.blit(exit_text, (SCREEN_WIDTH // 2 - exit_text.get_width() // 2, 450))\n",
        "\n",
        "        # Processing end interface input\n",
        "        keys = pygame.key.get_pressed()\n",
        "        if keys[pygame.K_r]:\n",
        "            current_screen = \"menu\"\n",
        "        elif keys[pygame.K_ESCAPE]:\n",
        "            running = False\n",
        "\n",
        "    # Update display\n",
        "    pygame.display.flip()\n",
        "    clock.tick(60)\n",
        "\n",
        "# Quit the game\n",
        "pygame.quit()"
      ],
      "metadata": {
        "id": "3-PsjHh8ZtCO"
      },
      "execution_count": null,
      "outputs": []
    }
  ]
}